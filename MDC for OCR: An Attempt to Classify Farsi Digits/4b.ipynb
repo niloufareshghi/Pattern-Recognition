{
  "cells": [
    {
      "cell_type": "code",
      "execution_count": 20,
      "metadata": {
        "id": "A8JMUm_KA9lA"
      },
      "outputs": [],
      "source": [
        "import scipy.io\n",
        "import numpy as np\n",
        "from numpy.linalg import norm\n",
        "import matplotlib.pyplot as plt\n",
        "from sklearn.metrics import accuracy_score\n",
        "from scipy.spatial.distance import cdist\n",
        "from tqdm import tqdm\n",
        "from math import *\n",
        "import pdb"
      ]
    },
    {
      "cell_type": "code",
      "execution_count": 21,
      "metadata": {
        "id": "cPoTtRAT25cS"
      },
      "outputs": [],
      "source": [
        "train = scipy.io.loadmat('train.mat')\n",
        "test = scipy.io.loadmat('test.mat')"
      ]
    },
    {
      "cell_type": "code",
      "execution_count": 22,
      "metadata": {
        "id": "_u1yaJbG26-s"
      },
      "outputs": [],
      "source": [
        "X_train = train['data']\n",
        "y_train = train['labels']\n",
        "X_test = test['data']\n",
        "y_test = test['labels']"
      ]
    },
    {
      "cell_type": "code",
      "execution_count": 23,
      "metadata": {
        "id": "WtFkUNWd0Tb_"
      },
      "outputs": [],
      "source": [
        "classes = [0, 1, 2, 3, 4, 5, 6, 7, 8, 9]\n",
        "centroids = []\n",
        "centroids = np.zeros((len(classes), *X_train[0][0].shape))\n",
        "for i in range(len(classes)):\n",
        "    instances = np.where(y_train == classes[i])[0]\n",
        "    S = X_train[0][0].copy()\n",
        "    S.fill(0)\n",
        "    for j in instances:\n",
        "      S += X_train[j][0]\n",
        "    centroids[i,:] = S / len(instances)"
      ]
    },
    {
      "cell_type": "code",
      "execution_count": 29,
      "metadata": {
        "id": "dOoHDWpZlHk7"
      },
      "outputs": [],
      "source": [
        "min_dist = []\n",
        "for mat in X_test:\n",
        "  dists = []\n",
        "  for cent in centroids:\n",
        "    distance = float(cdist(mat[0].reshape(1, 32*32), cent.reshape(1, 32*32)))\n",
        "    dists.append(distance)\n",
        "  min_dist.append(np.argmin(dists))\n",
        "y_test_pred = np.array([classes[i] for i in min_dist])"
      ]
    },
    {
      "cell_type": "code",
      "execution_count": 32,
      "metadata": {
        "id": "Q3rnoOYfoEYu",
        "colab": {
          "base_uri": "https://localhost:8080/"
        },
        "outputId": "d45cc5d9-1334-4404-fd4a-c378f742a5d0"
      },
      "outputs": [
        {
          "output_type": "stream",
          "name": "stdout",
          "text": [
            "66.715\n"
          ]
        }
      ],
      "source": [
        "accuracy = accuracy_score(y_test, y_test_pred)*100\n",
        "error_rate = 100 - accuracy\n",
        "print(error_rate)"
      ]
    },
    {
      "cell_type": "code",
      "source": [
        "count = 5\n",
        "for i in range(len(y_test)):\n",
        "  if y_test[i] != y_test_pred[i]:\n",
        "    print(y_test[i], y_test_pred[i])\n",
        "    count -= 1\n",
        "  if count == 0:\n",
        "    break"
      ],
      "metadata": {
        "colab": {
          "base_uri": "https://localhost:8080/"
        },
        "id": "xMkU05hTABd2",
        "outputId": "a42ca5a3-987f-4d10-a0d4-5e6c2a626779"
      },
      "execution_count": 38,
      "outputs": [
        {
          "output_type": "stream",
          "name": "stdout",
          "text": [
            "[0] 5\n",
            "[0] 5\n",
            "[0] 5\n",
            "[0] 9\n",
            "[0] 5\n"
          ]
        }
      ]
    }
  ],
  "metadata": {
    "colab": {
      "provenance": []
    },
    "kernelspec": {
      "display_name": "Python 3",
      "name": "python3"
    },
    "language_info": {
      "name": "python"
    }
  },
  "nbformat": 4,
  "nbformat_minor": 0
}