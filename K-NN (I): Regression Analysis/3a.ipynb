{
  "nbformat": 4,
  "nbformat_minor": 0,
  "metadata": {
    "colab": {
      "provenance": []
    },
    "kernelspec": {
      "name": "python3",
      "display_name": "Python 3"
    },
    "language_info": {
      "name": "python"
    }
  },
  "cells": [
    {
      "cell_type": "code",
      "execution_count": 20,
      "metadata": {
        "id": "6Igh8oBpD4D4"
      },
      "outputs": [],
      "source": [
        "import pandas as pd\n",
        "import numpy as np\n",
        "from matplotlib import pyplot as plt "
      ]
    },
    {
      "cell_type": "code",
      "source": [
        "animal = pd.read_fwf('animals_weight.txt')"
      ],
      "metadata": {
        "id": "yyAJ2bn6Q5rJ"
      },
      "execution_count": 6,
      "outputs": []
    },
    {
      "cell_type": "code",
      "source": [
        "X = animal.drop(\"Body\", axis=1)\n",
        "X = X.values\n",
        "y = animal[\"Body\"]\n",
        "y = y.values"
      ],
      "metadata": {
        "id": "Q7IeyBoYV1c8"
      },
      "execution_count": 7,
      "outputs": []
    },
    {
      "cell_type": "code",
      "source": [
        "data_points = [\n",
        "    np.array([53.298]),\n",
        "    np.array([1247.122]),\n",
        "    np.array([0.583]),\n",
        "    np.array([4.859]),\n",
        "    np.array([0.041]),\n",
        "]"
      ],
      "metadata": {
        "id": "qMqfz-R5WIqD"
      },
      "execution_count": 8,
      "outputs": []
    },
    {
      "cell_type": "code",
      "source": [
        "# 1-NN\n",
        "for data in data_points:  \n",
        "  distances = np.linalg.norm(X - data, axis=1)\n",
        "  k = 1\n",
        "  nn_ids = distances.argsort()[:k]\n",
        "  nn_bodies = y[nn_ids]\n",
        "  nn_bodies\n",
        "  prediction = nn_bodies.mean()\n",
        "  print(\"predicted body weight for {} is {}\".format(data, prediction))"
      ],
      "metadata": {
        "colab": {
          "base_uri": "https://localhost:8080/"
        },
        "id": "iJkxrDLxV_9P",
        "outputId": "fa75462c-8884-40b7-832a-0f5ed22a8603"
      },
      "execution_count": 16,
      "outputs": [
        {
          "output_type": "stream",
          "name": "stdout",
          "text": [
            "predicted body weight for [53.298] is 440.0\n",
            "predicted body weight for [1247.122] is 680.0\n",
            "predicted body weight for [0.583] is 2.4\n",
            "predicted body weight for [4.859] is 39.2\n",
            "predicted body weight for [0.041] is 0.33\n"
          ]
        }
      ]
    },
    {
      "cell_type": "code",
      "source": [
        "# 3-NN\n",
        "for data in data_points:  \n",
        "  distances = np.linalg.norm(X - data, axis=1)\n",
        "  k = 3\n",
        "  nn_ids = distances.argsort()[:k]\n",
        "  nn_bodies = y[nn_ids]\n",
        "  nn_bodies\n",
        "  prediction = nn_bodies.mean()\n",
        "  print(\"predicted body weight for {} is {}\".format(data, prediction))"
      ],
      "metadata": {
        "colab": {
          "base_uri": "https://localhost:8080/"
        },
        "id": "I2PWczNsYT9z",
        "outputId": "4133329f-328f-4427-c77d-501d05f2145d"
      },
      "execution_count": 18,
      "outputs": [
        {
          "output_type": "stream",
          "name": "stdout",
          "text": [
            "predicted body weight for [53.298] is 232.0\n",
            "predicted body weight for [1247.122] is 586.0\n",
            "predicted body weight for [0.583] is 8.1\n",
            "predicted body weight for [4.859] is 49.199999999999996\n",
            "predicted body weight for [0.041] is 0.3433333333333333\n"
          ]
        }
      ]
    },
    {
      "cell_type": "code",
      "source": [
        "# 5-NN\n",
        "for data in data_points:  \n",
        "  distances = np.linalg.norm(X - data, axis=1)\n",
        "  k = 5\n",
        "  nn_ids = distances.argsort()[:k]\n",
        "  nn_bodies = y[nn_ids]\n",
        "  nn_bodies\n",
        "  prediction = nn_bodies.mean()\n",
        "  print(\"predicted body weight for {} is {}\".format(data, prediction))"
      ],
      "metadata": {
        "colab": {
          "base_uri": "https://localhost:8080/"
        },
        "id": "ZM6JnlTPYtJD",
        "outputId": "85aafb3c-ca12-48e9-d41e-6867c7eae4c7"
      },
      "execution_count": 19,
      "outputs": [
        {
          "output_type": "stream",
          "name": "stdout",
          "text": [
            "predicted body weight for [53.298] is 427.1\n",
            "predicted body weight for [1247.122] is 530.8\n",
            "predicted body weight for [0.583] is 8.02\n",
            "predicted body weight for [4.859] is 37.12\n",
            "predicted body weight for [0.041] is 0.45600000000000007\n"
          ]
        }
      ]
    }
  ]
}