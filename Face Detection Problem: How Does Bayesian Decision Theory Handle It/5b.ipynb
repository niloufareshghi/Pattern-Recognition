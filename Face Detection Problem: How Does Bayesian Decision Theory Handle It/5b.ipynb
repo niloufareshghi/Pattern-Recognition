{
  "cells": [
    {
      "cell_type": "code",
      "execution_count": 1,
      "metadata": {
        "id": "A8JMUm_KA9lA"
      },
      "outputs": [],
      "source": [
        "import scipy.io\n",
        "import numpy as np\n",
        "import glob\n",
        "import cv2\n",
        "from google.colab.patches import cv2_imshow\n",
        "from functools import reduce \n",
        "import math"
      ]
    },
    {
      "cell_type": "code",
      "source": [
        "path = \"/content/masks/*.*\"\n",
        "masks = []\n",
        "for file in glob.glob(path):\n",
        "   mask = scipy.io.loadmat(file)\n",
        "   masks.append(list(mask['mask'].flatten()))\n",
        "masks = np.array(reduce(lambda a, b: a+b, masks))"
      ],
      "metadata": {
        "id": "F-eXRkxDD_nI"
      },
      "execution_count": 2,
      "outputs": []
    },
    {
      "cell_type": "code",
      "source": [
        "images = []\n",
        "path = \"/content/images/*.*\"\n",
        "for file in glob.glob(path):\n",
        "   img =  cv2.imread(file)\n",
        "   gray = cv2.cvtColor(img, cv2.COLOR_BGR2GRAY)\n",
        "   images.append(list(gray.flatten()))\n",
        "images = np.array(reduce(lambda a, b: a+b, images))"
      ],
      "metadata": {
        "id": "MKRccyi_V5VT"
      },
      "execution_count": 3,
      "outputs": []
    },
    {
      "cell_type": "code",
      "source": [
        "mean = sum(np.multiply(images, masks))/sum(masks)\n",
        "var = sum((x - mean)**2 * m for (x, m) in zip(images, masks)) / sum(masks)\n",
        "print(mean, var) # for class 'face'"
      ],
      "metadata": {
        "colab": {
          "base_uri": "https://localhost:8080/"
        },
        "id": "guWt-wuMEhLe",
        "outputId": "a9959e33-9213-4174-e7c6-b535229ef68a"
      },
      "execution_count": 4,
      "outputs": [
        {
          "output_type": "stream",
          "name": "stdout",
          "text": [
            "98.06235876967752 4816.7060079930225\n"
          ]
        }
      ]
    },
    {
      "cell_type": "code",
      "source": [
        "non_masks = 1 - masks\n",
        "mean = sum(np.multiply(images, non_masks))/sum(non_masks)\n",
        "var = sum((x - mean)**2 * m for (x, m) in zip(images, non_masks)) / sum(non_masks)\n",
        "print(mean, var) # for class 'non-face'"
      ],
      "metadata": {
        "colab": {
          "base_uri": "https://localhost:8080/"
        },
        "id": "A1y7swBlHCXs",
        "outputId": "2e3cf3d5-9b28-48e9-fa31-491f82d55bc3"
      },
      "execution_count": 5,
      "outputs": [
        {
          "output_type": "stream",
          "name": "stdout",
          "text": [
            "104.36191646128414 4820.033064337396\n"
          ]
        }
      ]
    },
    {
      "cell_type": "code",
      "source": [
        "prior = {'face': 0.22194392442521707, 'non-face': 0.778056075574783}\n",
        "mean = {'face': 98.06235876967752 , 'non-face': 104.36191646128414}\n",
        "var = {'face': 4816.7060079930225, 'non-face': 4820.033064337396}"
      ],
      "metadata": {
        "id": "xiq42te2LFMh"
      },
      "execution_count": 10,
      "outputs": []
    },
    {
      "cell_type": "code",
      "source": [
        "def classifier(test):\n",
        "\n",
        "  predicted = np.zeros(len(test))\n",
        "\n",
        "  for i in range(len(test)):\n",
        "\n",
        "    probabilities = {'face': 0, 'non-face': 0}\n",
        "\n",
        "    exponents = {'face': math.exp(-(math.pow(test[i] - mean['face'], 2)/(2 * var['face']))),\n",
        "                 'non-face': math.exp(-(math.pow(test[i] - mean['non-face'], 2)/(2 * var['non-face'])))}\n",
        "\n",
        "    probabilities['face'] = prior['face'] * (1 / (math.sqrt(2 * math.pi * var['face']))) * exponents['face']\n",
        "    probabilities['non-face'] = prior['non-face'] * (1 / (math.sqrt(2 * math.pi * var['non-face']))) * exponents['non-face']\n",
        "\n",
        "    bestLabel, bestProb = None, -1\n",
        "\n",
        "    if probabilities['face'] >= probabilities['non-face']:\n",
        "       predicted[i] = 1\n",
        "    else:\n",
        "      predicted[i] = 0\n",
        "\n",
        "  return predicted"
      ],
      "metadata": {
        "id": "qumRzz9KIv6l"
      },
      "execution_count": 11,
      "outputs": []
    },
    {
      "cell_type": "code",
      "source": [
        "test_image = cv2.cvtColor(cv2.imread(\"img_01.jpg\"), cv2.COLOR_BGR2GRAY)\n",
        "test = test_image.flatten()\n",
        "print(test)\n",
        "prediction = classifier(test)\n",
        "print(prediction)\n",
        "cv2_imshow(prediction.reshape(test_image.shape[0], test_image.shape[1]))"
      ],
      "metadata": {
        "id": "XA8aIqIEQcA-"
      },
      "execution_count": null,
      "outputs": []
    }
  ],
  "metadata": {
    "colab": {
      "provenance": []
    },
    "kernelspec": {
      "display_name": "Python 3",
      "name": "python3"
    },
    "language_info": {
      "name": "python"
    }
  },
  "nbformat": 4,
  "nbformat_minor": 0
}