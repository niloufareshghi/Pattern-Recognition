{
  "cells": [
    {
      "cell_type": "code",
      "execution_count": null,
      "metadata": {
        "id": "A8JMUm_KA9lA"
      },
      "outputs": [],
      "source": [
        "import scipy.io\n",
        "import numpy as np\n",
        "import matplotlib.pyplot as plt\n",
        "import glob\n",
        "import cv2\n",
        "from tqdm import tqdm\n",
        "import pdb\n",
        "from google.colab.patches import cv2_imshow\n",
        "from functools import reduce \n",
        "import math"
      ]
    },
    {
      "cell_type": "code",
      "source": [
        "def draw_mat(mat):\n",
        "  plt.imshow(mat,cmap = 'gray',  interpolation = 'none', vmin=0, vmax=1)\n",
        "  plt.xticks([]), plt.yticks([])  # to hide tick values on X and Y axis\n",
        "  plt.show()"
      ],
      "metadata": {
        "id": "LYd8RP8znSZs"
      },
      "execution_count": null,
      "outputs": []
    },
    {
      "cell_type": "code",
      "source": [
        "w, h = 0, 0"
      ],
      "metadata": {
        "id": "Cy-oaRC0sB3G"
      },
      "execution_count": null,
      "outputs": []
    },
    {
      "cell_type": "code",
      "source": [
        "path = \"/content/masks/*.*\"\n",
        "masks = []\n",
        "files = glob.glob(path)\n",
        "files.sort()\n",
        "for file in files[1:20]:\n",
        "   mask = scipy.io.loadmat(file)\n",
        "   w, h = mask['mask'].shape\n",
        "   masks.append(list(mask['mask'].flatten()))\n",
        "masks = np.array(reduce(lambda a, b: a+b, masks))"
      ],
      "metadata": {
        "id": "F-eXRkxDD_nI"
      },
      "execution_count": null,
      "outputs": []
    },
    {
      "cell_type": "code",
      "source": [
        "def normal_image(img):\n",
        "  flat_img = []\n",
        "  for row in img:\n",
        "    for pixel in row:\n",
        "      b, g, r = pixel\n",
        "      r = int(r)\n",
        "      g = int(g)\n",
        "      b = int(b)\n",
        "      s = r + g + b\n",
        "      # if s > 0:\n",
        "      #   r /= s\n",
        "      #   g /= s\n",
        "      #   b /= s\n",
        "      flat_img.append([r, g, b])\n",
        "  flat_img = np.array([np.array(row) for row in flat_img])\n",
        "  return flat_img"
      ],
      "metadata": {
        "id": "2YdkP_io1tpu"
      },
      "execution_count": null,
      "outputs": []
    },
    {
      "cell_type": "code",
      "source": [
        "images = []\n",
        "path = \"/content/images/*.*\"\n",
        "files = glob.glob(path)\n",
        "files.sort()\n",
        "for file in tqdm(files[1:20]):\n",
        "   img =  cv2.imread(file)\n",
        "   images.append(list(normal_image(img)))\n",
        "images = np.array(reduce(lambda a, b: a+b, images))"
      ],
      "metadata": {
        "id": "MKRccyi_V5VT",
        "colab": {
          "base_uri": "https://localhost:8080/"
        },
        "outputId": "75beebc0-016b-490a-a0ee-a931e00ae5a6"
      },
      "execution_count": null,
      "outputs": [
        {
          "output_type": "stream",
          "name": "stderr",
          "text": [
            "100%|██████████| 19/19 [00:16<00:00,  1.15it/s]\n"
          ]
        }
      ]
    },
    {
      "cell_type": "code",
      "source": [
        "masked = []\n",
        "non_masked = []\n",
        "pen_mat = []\n",
        "av = np.zeros((3,))\n",
        "for (i, (m, vec)) in tqdm(enumerate(zip(masks, images))):\n",
        "  if m == 1:\n",
        "    if len(masked) >= 21300 and len(masked) <= 21500:\n",
        "      av += vec\n",
        "      pen_mat.append(1)\n",
        "    else:\n",
        "      pen_mat.append(0)\n",
        "    masked.append(vec)\n",
        "  elif m == 0:\n",
        "    pen_mat.append(0)\n",
        "    non_masked.append(vec)\n",
        "\n",
        "av /= sum(pen_mat)\n",
        "# pen_mat = np.array(pen_mat)\n",
        "# pen_mat = pen_mat.reshape((w, h))\n",
        "# draw_mat(pen_mat)\n",
        "masked = np.array(masked)\n",
        "non_masked = np.array(non_masked)\n",
        "print(av)"
      ],
      "metadata": {
        "colab": {
          "base_uri": "https://localhost:8080/"
        },
        "id": "XFL4J_nZvKMo",
        "outputId": "82d6d423-2728-4aaf-c552-f49f13fce671"
      },
      "execution_count": null,
      "outputs": [
        {
          "output_type": "stream",
          "name": "stderr",
          "text": [
            "2861803it [00:11, 240149.93it/s]\n"
          ]
        },
        {
          "output_type": "stream",
          "name": "stdout",
          "text": [
            "[158.02985075 115.56716418  75.07960199]\n"
          ]
        }
      ]
    },
    {
      "cell_type": "code",
      "source": [
        "def build_model(vecs):\n",
        "  miu = np.zeros((3,))\n",
        "  for vec in vecs:\n",
        "    miu += vec\n",
        "  miu /= len(vecs)\n",
        "  sig = np.zeros((3, 3))\n",
        "  for vec in vecs:\n",
        "    diff = vec - miu\n",
        "    sig += diff.reshape((3, 1)) * diff.reshape(1, 3)\n",
        "  sig /= len(vecs)\n",
        "  print(miu)\n",
        "  print(sig)\n",
        "  print()\n",
        "  det = np.linalg.det(sig)\n",
        "  inv = np.linalg.inv(sig)\n",
        "\n",
        "  def P(vec):\n",
        "    dn = (2 * math.pi) ** (3/2) * math.sqrt(det)\n",
        "    up = math.exp(-0.5 * (vec.reshape(1, 3) @ inv @ vec.reshape(3, 1)))\n",
        "    return up / dn\n",
        "  \n",
        "  return P\n",
        "\n",
        "p_masked = build_model(masked)\n",
        "p_non_masked = build_model(non_masked)"
      ],
      "metadata": {
        "colab": {
          "base_uri": "https://localhost:8080/"
        },
        "id": "guWt-wuMEhLe",
        "outputId": "ef866214-5674-4e6a-c0fb-f57100235126"
      },
      "execution_count": null,
      "outputs": [
        {
          "output_type": "stream",
          "name": "stdout",
          "text": [
            "[161.97856753 122.96183404 102.00534689]\n",
            "[[3201.77857327 2629.77991941 2303.20488735]\n",
            " [2629.77991941 2400.44764045 2165.37421696]\n",
            " [2303.20488735 2165.37421696 2200.67978987]]\n",
            "\n",
            "[106.64309869 103.52679779 102.68804962]\n",
            "[[6587.73340591 6416.80376686 5801.28528098]\n",
            " [6416.80376686 6648.29427749 6349.93275475]\n",
            " [5801.28528098 6349.93275475 6714.29841928]]\n",
            "\n"
          ]
        }
      ]
    },
    {
      "cell_type": "code",
      "source": [
        "prior = {'face': 0.22194392442521707, 'non-face': 0.778056075574783}"
      ],
      "metadata": {
        "id": "xiq42te2LFMh"
      },
      "execution_count": null,
      "outputs": []
    },
    {
      "cell_type": "code",
      "source": [
        "def classifier(test):\n",
        "  cnt = 0\n",
        "  predicted = np.zeros(len(test))\n",
        "\n",
        "  for i in range(len(test)):\n",
        "\n",
        "    probabilities = {'face': 0, 'non-face': 0}\n",
        "\n",
        "    probabilities['face'] = prior['face'] * p_masked(test[i])\n",
        "    probabilities['non-face'] = prior['non-face'] * p_non_masked(test[i])\n",
        "\n",
        "    bestLabel, bestProb = None, -1\n",
        "\n",
        "    if probabilities['face'] >= probabilities['non-face']:\n",
        "      cnt += 1\n",
        "      predicted[i] = 255\n",
        "    else:\n",
        "      predicted[i] = 0\n",
        "  return predicted"
      ],
      "metadata": {
        "id": "qumRzz9KIv6l"
      },
      "execution_count": null,
      "outputs": []
    },
    {
      "cell_type": "code",
      "source": [
        "test_image = cv2.imread(\"img_02.jpg\")\n",
        "test = normal_image(test_image)\n",
        "mx = np. array([0, 0, 0])\n",
        "prediction = classifier(test)\n",
        "print(prediction)\n",
        "print((test_image.shape[0], test_image.shape[1]))\n",
        "prediction = prediction.reshape((test_image.shape[0], test_image.shape[1]))\n",
        "plt.imshow(prediction,cmap = 'gray',  interpolation = 'none', vmin=0, vmax=255)\n",
        "plt.xticks([]), plt.yticks([])  # to hide tick values on X and Y axis\n",
        "plt.show()"
      ],
      "metadata": {
        "colab": {
          "base_uri": "https://localhost:8080/",
          "height": 287
        },
        "id": "XA8aIqIEQcA-",
        "outputId": "cc8899e4-daab-4a37-c5b3-458d63e6326a"
      },
      "execution_count": null,
      "outputs": [
        {
          "output_type": "stream",
          "name": "stdout",
          "text": [
            "[0. 0. 0. ... 0. 0. 0.]\n",
            "(480, 386)\n"
          ]
        },
        {
          "output_type": "display_data",
          "data": {
            "text/plain": [
              "<Figure size 432x288 with 1 Axes>"
            ],
            "image/png": "[encoded data removed]"
          },
          "metadata": {}
        }
      ]
    },
    {
      "cell_type": "code",
      "source": [
        "y_true_all = []\n",
        "y_pred_all = []\n",
        "for i in range(1, 4):\n",
        "  test_i = cv2.imread(\"img_0{j}.jpg\".format(j = i))\n",
        "  prediction = classifier(normal_image(test_i)).reshape((test_i.shape[0], test_i.shape[1]))\n",
        "  mask_test_i = scipy.io.loadmat(\"mask_0{j}.mat\".format(j = i))\n",
        "  y_true = mask_test_i['mask']\n",
        "\n",
        "  y_true_all += list(y_true.flatten())\n",
        "  y_pred_all += list(prediction.flatten()/255)"
      ],
      "metadata": {
        "id": "mtUZAHpAxNBC"
      },
      "execution_count": 49,
      "outputs": []
    },
    {
      "cell_type": "code",
      "source": [
        "from sklearn.metrics import confusion_matrix\n",
        "import pandas as pd\n",
        "cm = confusion_matrix(y_true_all, y_pred_all)\n",
        "class_names = ('face', 'non-face')\n",
        "dataframe = pd.DataFrame(cm, index=class_names, columns=class_names)"
      ],
      "metadata": {
        "colab": {
          "base_uri": "https://localhost:8080/"
        },
        "id": "-wMo5Yab4CUD",
        "outputId": "a19f8c19-fb43-495c-d62d-4ceaa29c86c9"
      },
      "execution_count": 50,
      "outputs": [
        {
          "output_type": "stream",
          "name": "stdout",
          "text": [
            "[[749262  21548]\n",
            " [ 60812  44858]]\n"
          ]
        }
      ]
    },
    {
      "cell_type": "code",
      "source": [
        "import seaborn as sns\n",
        "plt.figure(figsize=(8, 6))\n",
        " \n",
        "# Create heatmap\n",
        "sns.heatmap(dataframe, annot=True, cbar=None,cmap=\"YlGnBu\",fmt=\"d\")\n",
        " \n",
        "plt.title(\"Confusion Matrix\"), plt.tight_layout()\n",
        " \n",
        "plt.ylabel(\"True Class\"), \n",
        "plt.xlabel(\"Predicted Class\")\n",
        "plt.show()"
      ],
      "metadata": {
        "colab": {
          "base_uri": "https://localhost:8080/",
          "height": 455
        },
        "id": "UuRCltxI9pzd",
        "outputId": "b9185626-4d15-4e57-eb70-68e84cd06284"
      },
      "execution_count": 52,
      "outputs": [
        {
          "output_type": "display_data",
          "data": {
            "text/plain": [
              "<Figure size 576x432 with 1 Axes>"
            ],
            "image/png": "[encoded data removed]"
          },
          "metadata": {
            "needs_background": "light"
          }
        }
      ]
    }
  ],
  "metadata": {
    "colab": {
      "provenance": []
    },
    "kernelspec": {
      "display_name": "Python 3",
      "name": "python3"
    },
    "language_info": {
      "name": "python"
    }
  },
  "nbformat": 4,
  "nbformat_minor": 0
}