{
  "cells": [
    {
      "cell_type": "code",
      "execution_count": 20,
      "metadata": {
        "id": "A8JMUm_KA9lA"
      },
      "outputs": [],
      "source": [
        "import scipy.io\n",
        "import numpy as np"
      ]
    },
    {
      "cell_type": "code",
      "source": [
        "import glob\n",
        "path = \"/content/masks_train/*.*\"\n",
        "mask_train = []\n",
        "for file in glob.glob(path):\n",
        "   mask = scipy.io.loadmat(file)\n",
        "   mask_train.append(mask['mask'])"
      ],
      "metadata": {
        "id": "F-eXRkxDD_nI"
      },
      "execution_count": null,
      "outputs": []
    },
    {
      "cell_type": "code",
      "source": [
        "face = 0\n",
        "non_face = 0\n",
        "for mask in mask_train:\n",
        "  for row in mask:\n",
        "    for pixel in row:\n",
        "      if pixel == 1:\n",
        "        face += 1\n",
        "      else:\n",
        "        non_face += 1\n",
        "print(face, non_face)"
      ],
      "metadata": {
        "colab": {
          "base_uri": "https://localhost:8080/"
        },
        "id": "_9lYaQo5JPad",
        "outputId": "b363a7ba-2c03-4d53-ae7f-b6c11025140d"
      },
      "execution_count": 52,
      "outputs": [
        {
          "output_type": "stream",
          "name": "stdout",
          "text": [
            "1662621 5828555\n"
          ]
        }
      ]
    },
    {
      "cell_type": "code",
      "source": [
        "prior_face = face / (face + non_face)\n",
        "prior_non = non_face / (face + non_face)"
      ],
      "metadata": {
        "id": "DpZnGyd0LInZ"
      },
      "execution_count": 53,
      "outputs": []
    },
    {
      "cell_type": "code",
      "source": [
        "print(\"face prior prob:\" + str(prior_face))\n",
        "print(\"non face prior prob:\" + str(prior_non))"
      ],
      "metadata": {
        "colab": {
          "base_uri": "https://localhost:8080/"
        },
        "id": "4bQiKS4fLSPU",
        "outputId": "f301af89-59db-47d2-a529-8050251951f6"
      },
      "execution_count": 55,
      "outputs": [
        {
          "output_type": "stream",
          "name": "stdout",
          "text": [
            "face prior prob:0.22194392442521707\n",
            "non face prior prob:0.778056075574783\n"
          ]
        }
      ]
    }
  ],
  "metadata": {
    "colab": {
      "provenance": []
    },
    "kernelspec": {
      "display_name": "Python 3",
      "name": "python3"
    },
    "language_info": {
      "name": "python"
    }
  },
  "nbformat": 4,
  "nbformat_minor": 0
}