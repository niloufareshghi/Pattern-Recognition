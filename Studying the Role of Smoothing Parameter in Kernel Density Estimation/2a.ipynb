{
  "nbformat": 4,
  "nbformat_minor": 0,
  "metadata": {
    "colab": {
      "provenance": []
    },
    "kernelspec": {
      "name": "python3",
      "display_name": "Python 3"
    },
    "language_info": {
      "name": "python"
    }
  },
  "cells": [
    {
      "cell_type": "code",
      "source": [
        "import matplotlib.pyplot as plt\n",
        "import numpy as np\n",
        "import math"
      ],
      "metadata": {
        "id": "j-K_dw921geP"
      },
      "execution_count": 2,
      "outputs": []
    },
    {
      "cell_type": "code",
      "execution_count": 3,
      "metadata": {
        "id": "7OG0kwAJzV76"
      },
      "outputs": [],
      "source": [
        "def p1(x):\n",
        "  if 0<x<1:\n",
        "    return x\n",
        "  elif 1<x<2:\n",
        "    return 2-x\n",
        "  else:\n",
        "    return 0"
      ]
    },
    {
      "cell_type": "code",
      "source": [
        "def p2(x):\n",
        "  return x * (math.exp(-1 * x * x / 2))"
      ],
      "metadata": {
        "id": "m1OeWukY0pxb"
      },
      "execution_count": 4,
      "outputs": []
    },
    {
      "cell_type": "code",
      "source": [
        "t = np.arange(-10,10, 0.0001)\n",
        "plt.plot(t, list(map(p1, t)), c='r')\n",
        "plt.plot(t, list(map(p2, t)), c='b')\n",
        "plt.show()"
      ],
      "metadata": {
        "colab": {
          "base_uri": "https://localhost:8080/",
          "height": 265
        },
        "id": "MQVVVe8Y1JQf",
        "outputId": "544abe28-1859-4d56-9194-6b11dca472c8"
      },
      "execution_count": 39,
      "outputs": [
        {
          "output_type": "display_data",
          "data": {
            "text/plain": [
              "<Figure size 432x288 with 1 Axes>"
            ],
            "image/png": "[encoded data removed]"
          },
          "metadata": {
            "needs_background": "light"
          }
        }
      ]
    }
  ]
}