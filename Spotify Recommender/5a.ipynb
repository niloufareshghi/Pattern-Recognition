{
  "nbformat": 4,
  "nbformat_minor": 0,
  "metadata": {
    "colab": {
      "provenance": []
    },
    "kernelspec": {
      "name": "python3",
      "display_name": "Python 3"
    },
    "language_info": {
      "name": "python"
    }
  },
  "cells": [
    {
      "cell_type": "code",
      "execution_count": 1,
      "metadata": {
        "colab": {
          "base_uri": "https://localhost:8080/"
        },
        "id": "F_Q51EOIZU9c",
        "outputId": "5f016e5c-e412-4af2-eacd-760cbb39868c"
      },
      "outputs": [
        {
          "output_type": "stream",
          "name": "stdout",
          "text": [
            "popularity 64 1 29.9088\n",
            "danceability 0.938 0.0951 0.66697296\n",
            "energy 0.976 0.00524 0.7018647040000001\n",
            "loudness -0.798 -37.806 -6.2512096\n",
            "speechiness 0.464 0.027 0.1179768\n",
            "acousticness 0.994 0.00158 0.39467576\n",
            "instrumentalness 0.927 0.0 0.005765251488\n",
            "liveness 0.951 0.0263 0.20188911999999998\n",
            "valence 0.98 0.0339 0.58923536\n",
            "tempo 202.021 62.986 120.40730720000002\n",
            "duration_ms 679498 109166 229193.0592\n"
          ]
        }
      ],
      "source": [
        "import pandas as pd \n",
        "    \n",
        "df = pd.read_csv('/content/a.csv')\n",
        "\n",
        "for column in df.columns[5:]:\n",
        "  print(column,df[column].max(), df[column].min(), df[column].mean())"
      ]
    },
    {
      "cell_type": "markdown",
      "source": [
        "It seems that the top songs have high energy and danceability, are on the loud side, are more speechy and less acoustic, not instrumental, and not so live. They are valence and have high tempo\n",
        "\n",
        "the average energy, danceability and tempo of all of these songs is high. I think it's either that these are not the most reasonable variables to decide for the happiness of the songs or that all songs Persians like are happy\n"
      ],
      "metadata": {
        "id": "vl3wew-HZc9H"
      }
    }
  ]
}