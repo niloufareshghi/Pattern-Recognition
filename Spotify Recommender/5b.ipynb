{
  "nbformat": 4,
  "nbformat_minor": 0,
  "metadata": {
    "colab": {
      "provenance": []
    },
    "kernelspec": {
      "name": "python3",
      "display_name": "Python 3"
    },
    "language_info": {
      "name": "python"
    }
  },
  "cells": [
    {
      "cell_type": "code",
      "execution_count": 1,
      "metadata": {
        "colab": {
          "base_uri": "https://localhost:8080/"
        },
        "id": "s2sNWRTAZrTA",
        "outputId": "8b4a3636-95d6-45d2-f379-7f1e0116b2c5"
      },
      "outputs": [
        {
          "output_type": "stream",
          "name": "stdout",
          "text": [
            "popularity 64 1 29.9088 80.78493846153847\n",
            "danceability 0.938 0.0951 0.66697296 0.018325529091384615\n",
            "energy 0.976 0.00524 0.7018647040000001 0.025196502014375382\n",
            "loudness -0.798 -37.806 -6.2512096 7.656041547343589\n",
            "speechiness 0.464 0.027 0.1179768 0.007949271752564104\n",
            "acousticness 0.994 0.00158 0.39467576 0.07474087402029488\n",
            "instrumentalness 0.927 0.0 0.005765251488 0.004148604917961582\n",
            "liveness 0.951 0.0263 0.20188911999999998 0.023336971387846156\n",
            "valence 0.98 0.0339 0.58923536 0.05025679635984615\n",
            "tempo 202.021 62.986 120.40730720000002 642.0380993766308\n",
            "duration_ms 679498 109166 229193.0592 2874791274.635913\n"
          ]
        }
      ],
      "source": [
        "import pandas as pd \n",
        "    \n",
        "df = pd.read_csv('/content/a.csv')\n",
        "\n",
        "for column in df.columns[5:]:\n",
        "  print(column,df[column].max(),\n",
        "        df[column].min(),\n",
        "        df[column].mean(),\n",
        "        df[column].var())"
      ]
    },
    {
      "cell_type": "markdown",
      "source": [
        "as the interval for liveness is approx. (0, 1) and the variance is 0.02 (standard deviation is 0.14) it means that the distance of each data from mean is very small. So, it can be implied that listeners have similar patterns in how liveness affects their liking of a music but only one variable cannot determine if they have the same pattern in their music perference in all aspects."
      ],
      "metadata": {
        "id": "bYV7_qhOaENf"
      }
    }
  ]
}