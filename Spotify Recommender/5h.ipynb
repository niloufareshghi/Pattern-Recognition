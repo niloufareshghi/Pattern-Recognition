{
  "nbformat": 4,
  "nbformat_minor": 0,
  "metadata": {
    "colab": {
      "provenance": []
    },
    "kernelspec": {
      "name": "python3",
      "display_name": "Python 3"
    },
    "language_info": {
      "name": "python"
    }
  },
  "cells": [
    {
      "cell_type": "code",
      "execution_count": 18,
      "metadata": {
        "id": "BTzHG6yLjZ5-"
      },
      "outputs": [],
      "source": [
        "import numpy as np\n",
        "import pandas as pd\n",
        "import matplotlib.pyplot as plt\n",
        "import scipy.stats as stats\n",
        "\n",
        "df = pd.read_csv('/content/a.csv') "
      ]
    },
    {
      "cell_type": "code",
      "source": [
        "numerics = ['int16', 'int32', 'int64', 'float16', 'float32', 'float64']\n",
        "\n",
        "newdf = df.select_dtypes(include=numerics)"
      ],
      "metadata": {
        "id": "wKVYAxL9rNp6"
      },
      "execution_count": 19,
      "outputs": []
    },
    {
      "cell_type": "code",
      "source": [
        "from sklearn.preprocessing import MinMaxScaler\n",
        "\n",
        "scaler = MinMaxScaler()\n",
        " \n",
        "df_scaled = scaler.fit_transform(newdf.to_numpy())\n",
        "df_scaled = pd.DataFrame(df_scaled, columns=list(newdf.columns))\n",
        " \n",
        "print(\"Scaled Dataset Using MinMaxScaler\")\n",
        "df_scaled.head()\n"
      ],
      "metadata": {
        "colab": {
          "base_uri": "https://localhost:8080/",
          "height": 287
        },
        "id": "0yRcNSsXrRwy",
        "outputId": "e3b45cfe-80f0-4415-e77d-379fc106daf8"
      },
      "execution_count": 20,
      "outputs": [
        {
          "output_type": "stream",
          "name": "stdout",
          "text": [
            "Scaled Dataset Using MinMaxScaler\n"
          ]
        },
        {
          "output_type": "execute_result",
          "data": {
            "text/plain": [
              "   Radiojavan_play  Radiojavan_likes  popularity  danceability    energy  \\\n",
              "0         1.000000          0.995732    0.777778      0.892039  0.920681   \n",
              "1         0.827992          0.989090    0.777778      0.829161  0.549837   \n",
              "2         0.666540          0.696168    0.650794      0.775774  0.936133   \n",
              "3         0.666366          1.000000    0.650794      0.744928  0.856813   \n",
              "4         0.663075          0.504658    0.682540      0.795943  0.808398   \n",
              "\n",
              "   loudness  speechiness  acousticness  instrumentalness  liveness   valence  \\\n",
              "0  0.945714     0.338673      0.249310          0.000049  0.332757  0.982031   \n",
              "1  0.803826     0.043021      0.507265          0.000004  0.045636  0.713561   \n",
              "2  0.938230     0.221968      0.657403          0.000000  0.312209  0.920727   \n",
              "3  0.865407     0.322654      0.357127          0.000000  0.353304  0.559243   \n",
              "4  0.846358     0.400458      0.040326          0.000000  0.802098  0.919670   \n",
              "\n",
              "      tempo  duration_ms  \n",
              "0  0.467731     0.134795  \n",
              "1  0.230482     0.189533  \n",
              "2  0.302133     0.174195  \n",
              "3  0.571741     0.133203  \n",
              "4  0.337455     0.061650  "
            ],
            "text/html": [
              "\n",
              "  <div id=\"df-756906b5-63de-4d7b-aa32-12d224d00dd1\">\n",
              "    <div class=\"colab-df-container\">\n",
              "      <div>\n",
              "<style scoped>\n",
              "    .dataframe tbody tr th:only-of-type {\n",
              "        vertical-align: middle;\n",
              "    }\n",
              "\n",
              "    .dataframe tbody tr th {\n",
              "        vertical-align: top;\n",
              "    }\n",
              "\n",
              "    .dataframe thead th {\n",
              "        text-align: right;\n",
              "    }\n",
              "</style>\n",
              "<table border=\"1\" class=\"dataframe\">\n",
              "  <thead>\n",
              "    <tr style=\"text-align: right;\">\n",
              "      <th></th>\n",
              "      <th>Radiojavan_play</th>\n",
              "      <th>Radiojavan_likes</th>\n",
              "      <th>popularity</th>\n",
              "      <th>danceability</th>\n",
              "      <th>energy</th>\n",
              "      <th>loudness</th>\n",
              "      <th>speechiness</th>\n",
              "      <th>acousticness</th>\n",
              "      <th>instrumentalness</th>\n",
              "      <th>liveness</th>\n",
              "      <th>valence</th>\n",
              "      <th>tempo</th>\n",
              "      <th>duration_ms</th>\n",
              "    </tr>\n",
              "  </thead>\n",
              "  <tbody>\n",
              "    <tr>\n",
              "      <th>0</th>\n",
              "      <td>1.000000</td>\n",
              "      <td>0.995732</td>\n",
              "      <td>0.777778</td>\n",
              "      <td>0.892039</td>\n",
              "      <td>0.920681</td>\n",
              "      <td>0.945714</td>\n",
              "      <td>0.338673</td>\n",
              "      <td>0.249310</td>\n",
              "      <td>0.000049</td>\n",
              "      <td>0.332757</td>\n",
              "      <td>0.982031</td>\n",
              "      <td>0.467731</td>\n",
              "      <td>0.134795</td>\n",
              "    </tr>\n",
              "    <tr>\n",
              "      <th>1</th>\n",
              "      <td>0.827992</td>\n",
              "      <td>0.989090</td>\n",
              "      <td>0.777778</td>\n",
              "      <td>0.829161</td>\n",
              "      <td>0.549837</td>\n",
              "      <td>0.803826</td>\n",
              "      <td>0.043021</td>\n",
              "      <td>0.507265</td>\n",
              "      <td>0.000004</td>\n",
              "      <td>0.045636</td>\n",
              "      <td>0.713561</td>\n",
              "      <td>0.230482</td>\n",
              "      <td>0.189533</td>\n",
              "    </tr>\n",
              "    <tr>\n",
              "      <th>2</th>\n",
              "      <td>0.666540</td>\n",
              "      <td>0.696168</td>\n",
              "      <td>0.650794</td>\n",
              "      <td>0.775774</td>\n",
              "      <td>0.936133</td>\n",
              "      <td>0.938230</td>\n",
              "      <td>0.221968</td>\n",
              "      <td>0.657403</td>\n",
              "      <td>0.000000</td>\n",
              "      <td>0.312209</td>\n",
              "      <td>0.920727</td>\n",
              "      <td>0.302133</td>\n",
              "      <td>0.174195</td>\n",
              "    </tr>\n",
              "    <tr>\n",
              "      <th>3</th>\n",
              "      <td>0.666366</td>\n",
              "      <td>1.000000</td>\n",
              "      <td>0.650794</td>\n",
              "      <td>0.744928</td>\n",
              "      <td>0.856813</td>\n",
              "      <td>0.865407</td>\n",
              "      <td>0.322654</td>\n",
              "      <td>0.357127</td>\n",
              "      <td>0.000000</td>\n",
              "      <td>0.353304</td>\n",
              "      <td>0.559243</td>\n",
              "      <td>0.571741</td>\n",
              "      <td>0.133203</td>\n",
              "    </tr>\n",
              "    <tr>\n",
              "      <th>4</th>\n",
              "      <td>0.663075</td>\n",
              "      <td>0.504658</td>\n",
              "      <td>0.682540</td>\n",
              "      <td>0.795943</td>\n",
              "      <td>0.808398</td>\n",
              "      <td>0.846358</td>\n",
              "      <td>0.400458</td>\n",
              "      <td>0.040326</td>\n",
              "      <td>0.000000</td>\n",
              "      <td>0.802098</td>\n",
              "      <td>0.919670</td>\n",
              "      <td>0.337455</td>\n",
              "      <td>0.061650</td>\n",
              "    </tr>\n",
              "  </tbody>\n",
              "</table>\n",
              "</div>\n",
              "      <button class=\"colab-df-convert\" onclick=\"convertToInteractive('df-756906b5-63de-4d7b-aa32-12d224d00dd1')\"\n",
              "              title=\"Convert this dataframe to an interactive table.\"\n",
              "              style=\"display:none;\">\n",
              "        \n",
              "  <svg xmlns=\"http://www.w3.org/2000/svg\" height=\"24px\"viewBox=\"0 0 24 24\"\n",
              "       width=\"24px\">\n",
              "    <path d=\"M0 0h24v24H0V0z\" fill=\"none\"/>\n",
              "    <path d=\"M18.56 5.44l.94 2.06.94-2.06 2.06-.94-2.06-.94-.94-2.06-.94 2.06-2.06.94zm-11 1L8.5 8.5l.94-2.06 2.06-.94-2.06-.94L8.5 2.5l-.94 2.06-2.06.94zm10 10l.94 2.06.94-2.06 2.06-.94-2.06-.94-.94-2.06-.94 2.06-2.06.94z\"/><path d=\"M17.41 7.96l-1.37-1.37c-.4-.4-.92-.59-1.43-.59-.52 0-1.04.2-1.43.59L10.3 9.45l-7.72 7.72c-.78.78-.78 2.05 0 2.83L4 21.41c.39.39.9.59 1.41.59.51 0 1.02-.2 1.41-.59l7.78-7.78 2.81-2.81c.8-.78.8-2.07 0-2.86zM5.41 20L4 18.59l7.72-7.72 1.47 1.35L5.41 20z\"/>\n",
              "  </svg>\n",
              "      </button>\n",
              "      \n",
              "  <style>\n",
              "    .colab-df-container {\n",
              "      display:flex;\n",
              "      flex-wrap:wrap;\n",
              "      gap: 12px;\n",
              "    }\n",
              "\n",
              "    .colab-df-convert {\n",
              "      background-color: #E8F0FE;\n",
              "      border: none;\n",
              "      border-radius: 50%;\n",
              "      cursor: pointer;\n",
              "      display: none;\n",
              "      fill: #1967D2;\n",
              "      height: 32px;\n",
              "      padding: 0 0 0 0;\n",
              "      width: 32px;\n",
              "    }\n",
              "\n",
              "    .colab-df-convert:hover {\n",
              "      background-color: #E2EBFA;\n",
              "      box-shadow: 0px 1px 2px rgba(60, 64, 67, 0.3), 0px 1px 3px 1px rgba(60, 64, 67, 0.15);\n",
              "      fill: #174EA6;\n",
              "    }\n",
              "\n",
              "    [theme=dark] .colab-df-convert {\n",
              "      background-color: #3B4455;\n",
              "      fill: #D2E3FC;\n",
              "    }\n",
              "\n",
              "    [theme=dark] .colab-df-convert:hover {\n",
              "      background-color: #434B5C;\n",
              "      box-shadow: 0px 1px 3px 1px rgba(0, 0, 0, 0.15);\n",
              "      filter: drop-shadow(0px 1px 2px rgba(0, 0, 0, 0.3));\n",
              "      fill: #FFFFFF;\n",
              "    }\n",
              "  </style>\n",
              "\n",
              "      <script>\n",
              "        const buttonEl =\n",
              "          document.querySelector('#df-756906b5-63de-4d7b-aa32-12d224d00dd1 button.colab-df-convert');\n",
              "        buttonEl.style.display =\n",
              "          google.colab.kernel.accessAllowed ? 'block' : 'none';\n",
              "\n",
              "        async function convertToInteractive(key) {\n",
              "          const element = document.querySelector('#df-756906b5-63de-4d7b-aa32-12d224d00dd1');\n",
              "          const dataTable =\n",
              "            await google.colab.kernel.invokeFunction('convertToInteractive',\n",
              "                                                     [key], {});\n",
              "          if (!dataTable) return;\n",
              "\n",
              "          const docLinkHtml = 'Like what you see? Visit the ' +\n",
              "            '<a target=\"_blank\" href=https://colab.research.google.com/notebooks/data_table.ipynb>data table notebook</a>'\n",
              "            + ' to learn more about interactive tables.';\n",
              "          element.innerHTML = '';\n",
              "          dataTable['output_type'] = 'display_data';\n",
              "          await google.colab.output.renderOutput(dataTable, element);\n",
              "          const docLink = document.createElement('div');\n",
              "          docLink.innerHTML = docLinkHtml;\n",
              "          element.appendChild(docLink);\n",
              "        }\n",
              "      </script>\n",
              "    </div>\n",
              "  </div>\n",
              "  "
            ]
          },
          "metadata": {},
          "execution_count": 20
        }
      ]
    },
    {
      "cell_type": "code",
      "source": [
        "df1 = df_scaled"
      ],
      "metadata": {
        "id": "5c21MDmvix44"
      },
      "execution_count": 21,
      "outputs": []
    },
    {
      "cell_type": "code",
      "source": [
        "weights = {\n",
        "    'Radiojavan_play': 0,\n",
        "    'Radiojavan_likes': 0,\n",
        "    'popularity': 0,\n",
        "    'danceability': 0.1,\n",
        "    'energy': 0.6,\n",
        "    'loudness': 0.1,\n",
        "    'speechiness': 0.7,\n",
        "    'acousticness': 0.5,\n",
        "    'instrumentalness': 0.9,\n",
        "    'liveness': 0.1,\n",
        "    'valence': 0.2,\n",
        "    'tempo': 0.1\n",
        "}"
      ],
      "metadata": {
        "id": "SmiQ-es1tH09"
      },
      "execution_count": 33,
      "outputs": []
    },
    {
      "cell_type": "code",
      "source": [
        "from math import sqrt\n",
        "d = {}\n",
        "for index, row in df1.iterrows():\n",
        "  d[index] = 0\n",
        "  score = (weights['Radiojavan_play'] * row['Radiojavan_play']) + (weights['Radiojavan_likes'] * row['Radiojavan_likes']) + (weights['popularity'] * row['popularity']) + (weights['danceability'] * row['danceability']) + (weights['energy'] * row['energy']) + (weights['loudness'] * row['loudness']) + (weights['speechiness'] * row['speechiness']) + (weights['acousticness'] * row['acousticness']) + (weights['instrumentalness'] * row['instrumentalness']) + (weights['liveness'] * row['liveness']) + (weights['valence'] * row['valence']) + (weights['tempo'] *row['tempo'])\n",
        "  d[index] = score\n",
        "\n",
        "sorted_d = {k: v for k, v in sorted(d.items(), key=lambda item: item[1], reverse=True)}\n",
        "top5 = list(sorted_d.keys())[:5]\n",
        "print(top5)"
      ],
      "metadata": {
        "colab": {
          "base_uri": "https://localhost:8080/"
        },
        "id": "WwYQMSMCjgLU",
        "outputId": "86262102-ac76-43a5-fa43-1a4fffde1f01"
      },
      "execution_count": 37,
      "outputs": [
        {
          "output_type": "stream",
          "name": "stdout",
          "text": [
            "[87, 488, 176, 187, 373]\n"
          ]
        }
      ]
    },
    {
      "cell_type": "code",
      "source": [
        "for i in top5:\n",
        "  print(df['artistName'][i], df['musicName'][i])"
      ],
      "metadata": {
        "colab": {
          "base_uri": "https://localhost:8080/"
        },
        "id": "ZZQQNekmoQZy",
        "outputId": "94ac2528-c7ca-447f-f1e5-93c162d468c3"
      },
      "execution_count": 38,
      "outputs": [
        {
          "output_type": "stream",
          "name": "stdout",
          "text": [
            "Mohsen Chavoshi Bist Hezar Arezoo\n",
            "Wantons Age Payeyi\n",
            "Donya Tala\n",
            "Yas Sarkoob\n",
            "TM Bax Ni Copito\n"
          ]
        }
      ]
    }
  ]
}